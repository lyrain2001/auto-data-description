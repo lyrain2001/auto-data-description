{
 "cells": [
  {
   "cell_type": "code",
   "execution_count": 2,
   "metadata": {},
   "outputs": [],
   "source": [
    "import pickle\n",
    "import pandas as pd"
   ]
  },
  {
   "cell_type": "code",
   "execution_count": 3,
   "metadata": {},
   "outputs": [
    {
     "data": {
      "text/plain": [
       "dict_keys(['Dataset Title', 'GPT Input', 'Datamart Profiler Result', 'DataFrame', 'DataFrame Sample'])"
      ]
     },
     "execution_count": 3,
     "metadata": {},
     "output_type": "execute_result"
    }
   ],
   "source": [
    "dataset_sample = pickle.load(open(\"dataset_sample\", \"rb\"))\n",
    "dataset_sample.keys()"
   ]
  },
  {
   "cell_type": "code",
   "execution_count": 6,
   "metadata": {},
   "outputs": [
    {
     "data": {
      "text/plain": [
       "'Anemometer Data (Wind Speed, Direction) for Beloit, Kansas (May 13 - Jun 13, 2003)'"
      ]
     },
     "execution_count": 6,
     "metadata": {},
     "output_type": "execute_result"
    }
   ],
   "source": [
    "dataset_sample['Dataset Title']"
   ]
  },
  {
   "cell_type": "code",
   "execution_count": 7,
   "metadata": {},
   "outputs": [
    {
     "data": {
      "text/plain": [
       "'Input: \\nTime Stamp,Average Wind Speed,Standard Deviation,Average Wind Direction\\n8/13/2003 17:40,14.1,2.83,90\\n8/8/2003 22:40,5.7,0.8,45\\n9/15/2003 5:20,12.4,0.53,180\\n6/16/2003 11:10,3.7,2.51,203\\n6/17/2003 1:30,10.0,0.43,158\\n7/1/2003 3:20,7.2,0.43,135\\n9/11/2003 22:40,3.1,0.43,23\\n8/1/2003 8:30,2.8,0.75,90\\n6/27/2003 3:20,13.3,0.59,180\\n6/15/2003 10:30,0.0,0.11,158\\n\\n\\nContext: \\nColumn Time Stamp is a time column with temporal resolution in minute. The temporal coverage is from 2003-06-14 to 2003-09-13. \\nColumn Average Wind Speed is a http://schema.org/Float. The range of values is from 0 to 30.3. \\nColumn Standard Deviation is a http://schema.org/Float. The range of values is from 0 to 4.06. \\nColumn Average Wind Direction is a http://schema.org/Integer. There are 16 distinct values. The range of values is from 0 to 203.0. \\n'"
      ]
     },
     "execution_count": 7,
     "metadata": {},
     "output_type": "execute_result"
    }
   ],
   "source": [
    "dataset_sample['GPT Input']"
   ]
  },
  {
   "cell_type": "code",
   "execution_count": 8,
   "metadata": {},
   "outputs": [
    {
     "data": {
      "text/plain": [
       "{'columns': [{'name': 'Time Stamp',\n",
       "   'structural_type': 'http://schema.org/Text',\n",
       "   'semantic_types': ['http://schema.org/DateTime'],\n",
       "   'num_distinct_values': 13576},\n",
       "  {'name': 'Average Wind Speed',\n",
       "   'structural_type': 'http://schema.org/Float',\n",
       "   'semantic_types': [],\n",
       "   'coverage': [0, 30.3]},\n",
       "  {'name': 'Standard Deviation',\n",
       "   'structural_type': 'http://schema.org/Float',\n",
       "   'semantic_types': [],\n",
       "   'coverage': [0, 4.06]},\n",
       "  {'name': 'Average Wind Direction',\n",
       "   'structural_type': 'http://schema.org/Integer',\n",
       "   'semantic_types': [],\n",
       "   'num_distinct_values': 16,\n",
       "   'coverage': [0, 203.0]}],\n",
       " 'temporal_coverage': [{'column_names': ['Time Stamp'],\n",
       "   'temporal_resolution': 'minute',\n",
       "   'ranges': ['2003-06-14', '2003-09-13']}],\n",
       " 'attribute_keywords': ['Time Stamp',\n",
       "  'Time',\n",
       "  'Stamp',\n",
       "  'Average Wind Speed',\n",
       "  'Average',\n",
       "  'Wind',\n",
       "  'Speed',\n",
       "  'Standard Deviation',\n",
       "  'Standard',\n",
       "  'Deviation',\n",
       "  'Average Wind Direction',\n",
       "  'Average',\n",
       "  'Wind',\n",
       "  'Direction']}"
      ]
     },
     "execution_count": 8,
     "metadata": {},
     "output_type": "execute_result"
    }
   ],
   "source": [
    "dataset_sample['Datamart Profiler Result']"
   ]
  },
  {
   "cell_type": "code",
   "execution_count": 9,
   "metadata": {},
   "outputs": [
    {
     "data": {
      "text/html": [
       "<div>\n",
       "<style scoped>\n",
       "    .dataframe tbody tr th:only-of-type {\n",
       "        vertical-align: middle;\n",
       "    }\n",
       "\n",
       "    .dataframe tbody tr th {\n",
       "        vertical-align: top;\n",
       "    }\n",
       "\n",
       "    .dataframe thead th {\n",
       "        text-align: right;\n",
       "    }\n",
       "</style>\n",
       "<table border=\"1\" class=\"dataframe\">\n",
       "  <thead>\n",
       "    <tr style=\"text-align: right;\">\n",
       "      <th></th>\n",
       "      <th>Time Stamp</th>\n",
       "      <th>Average Wind Speed</th>\n",
       "      <th>Standard Deviation</th>\n",
       "      <th>Average Wind Direction</th>\n",
       "    </tr>\n",
       "  </thead>\n",
       "  <tbody>\n",
       "    <tr>\n",
       "      <th>8838</th>\n",
       "      <td>8/13/2003 17:40</td>\n",
       "      <td>14.1</td>\n",
       "      <td>2.83</td>\n",
       "      <td>90</td>\n",
       "    </tr>\n",
       "    <tr>\n",
       "      <th>8148</th>\n",
       "      <td>8/8/2003 22:40</td>\n",
       "      <td>5.7</td>\n",
       "      <td>0.80</td>\n",
       "      <td>45</td>\n",
       "    </tr>\n",
       "    <tr>\n",
       "      <th>13516</th>\n",
       "      <td>9/15/2003 5:20</td>\n",
       "      <td>12.4</td>\n",
       "      <td>0.53</td>\n",
       "      <td>180</td>\n",
       "    </tr>\n",
       "    <tr>\n",
       "      <th>447</th>\n",
       "      <td>6/16/2003 11:10</td>\n",
       "      <td>3.7</td>\n",
       "      <td>2.51</td>\n",
       "      <td>203</td>\n",
       "    </tr>\n",
       "    <tr>\n",
       "      <th>533</th>\n",
       "      <td>6/17/2003 1:30</td>\n",
       "      <td>10.0</td>\n",
       "      <td>0.43</td>\n",
       "      <td>158</td>\n",
       "    </tr>\n",
       "    <tr>\n",
       "      <th>2560</th>\n",
       "      <td>7/1/2003 3:20</td>\n",
       "      <td>7.2</td>\n",
       "      <td>0.43</td>\n",
       "      <td>135</td>\n",
       "    </tr>\n",
       "    <tr>\n",
       "      <th>13044</th>\n",
       "      <td>9/11/2003 22:40</td>\n",
       "      <td>3.1</td>\n",
       "      <td>0.43</td>\n",
       "      <td>23</td>\n",
       "    </tr>\n",
       "    <tr>\n",
       "      <th>7055</th>\n",
       "      <td>8/1/2003 8:30</td>\n",
       "      <td>2.8</td>\n",
       "      <td>0.75</td>\n",
       "      <td>90</td>\n",
       "    </tr>\n",
       "    <tr>\n",
       "      <th>1984</th>\n",
       "      <td>6/27/2003 3:20</td>\n",
       "      <td>13.3</td>\n",
       "      <td>0.59</td>\n",
       "      <td>180</td>\n",
       "    </tr>\n",
       "    <tr>\n",
       "      <th>299</th>\n",
       "      <td>6/15/2003 10:30</td>\n",
       "      <td>0.0</td>\n",
       "      <td>0.11</td>\n",
       "      <td>158</td>\n",
       "    </tr>\n",
       "  </tbody>\n",
       "</table>\n",
       "</div>"
      ],
      "text/plain": [
       "            Time Stamp  Average Wind Speed  Standard Deviation  \\\n",
       "8838   8/13/2003 17:40                14.1                2.83   \n",
       "8148    8/8/2003 22:40                 5.7                0.80   \n",
       "13516   9/15/2003 5:20                12.4                0.53   \n",
       "447    6/16/2003 11:10                 3.7                2.51   \n",
       "533     6/17/2003 1:30                10.0                0.43   \n",
       "2560     7/1/2003 3:20                 7.2                0.43   \n",
       "13044  9/11/2003 22:40                 3.1                0.43   \n",
       "7055     8/1/2003 8:30                 2.8                0.75   \n",
       "1984    6/27/2003 3:20                13.3                0.59   \n",
       "299    6/15/2003 10:30                 0.0                0.11   \n",
       "\n",
       "       Average Wind Direction  \n",
       "8838                       90  \n",
       "8148                       45  \n",
       "13516                     180  \n",
       "447                       203  \n",
       "533                       158  \n",
       "2560                      135  \n",
       "13044                      23  \n",
       "7055                       90  \n",
       "1984                      180  \n",
       "299                       158  "
      ]
     },
     "execution_count": 9,
     "metadata": {},
     "output_type": "execute_result"
    }
   ],
   "source": [
    "dataset_sample['DataFrame Sample']"
   ]
  }
 ],
 "metadata": {
  "kernelspec": {
   "display_name": "py38",
   "language": "python",
   "name": "python3"
  },
  "language_info": {
   "codemirror_mode": {
    "name": "ipython",
    "version": 3
   },
   "file_extension": ".py",
   "mimetype": "text/x-python",
   "name": "python",
   "nbconvert_exporter": "python",
   "pygments_lexer": "ipython3",
   "version": "3.10.13"
  }
 },
 "nbformat": 4,
 "nbformat_minor": 2
}
